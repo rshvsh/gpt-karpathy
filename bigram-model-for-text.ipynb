{
 "cells": [
  {
   "cell_type": "markdown",
   "metadata": {},
   "source": [
    "# Training a bigram model for text"
   ]
  },
  {
   "cell_type": "code",
   "execution_count": 1,
   "metadata": {},
   "outputs": [],
   "source": [
    "# Download the dataset\n",
    "# !wget https://raw.githubusercontent.com/karpathy/char-rnn/master/data/tinyshakespeare/input.txt"
   ]
  },
  {
   "cell_type": "code",
   "execution_count": 2,
   "metadata": {},
   "outputs": [
    {
     "name": "stdout",
     "output_type": "stream",
     "text": [
      "The length of the data is:  1115394\n",
      "First Citizen:\n",
      "Before we proceed any further, hear me speak.\n",
      "\n",
      "All:\n",
      "Speak, speak.\n",
      "\n",
      "First Citizen:\n",
      "You are all resolved rather to die than to famish?\n",
      "\n",
      "All:\n",
      "Resolved. resolved.\n",
      "\n",
      "First Citizen:\n",
      "First, you know Caius Marcius is chief enemy to the people.\n",
      "\n",
      "All:\n",
      "We know't, we know't.\n",
      "\n",
      "First Citizen:\n",
      "Let us\n",
      "--------------------\n",
      " is a sleepy language and thou speak'st\n",
      "Out of thy sleep. What is it thou didst say?\n",
      "This is a strange repose, to be asleep\n",
      "With eyes wide open; standing, speaking, moving,\n",
      "And yet so fast asleep.\n",
      "\n",
      "ANTONIO:\n",
      "Noble Sebastian,\n",
      "Thou let'st thy fortune sleep--die, rather; wink'st\n",
      "Whiles thou art waking.\n",
      "\n"
     ]
    }
   ],
   "source": [
    "# read the input file\n",
    "with open('input.txt', 'r') as file:\n",
    "    data = file.read()\n",
    "\n",
    "print(\"The length of the data is: \", len(data))\n",
    "\n",
    "# print the first n characters\n",
    "print(data[:300])\n",
    "print(\"--------------------\")\n",
    "# print the last n characters\n",
    "print(data[-300:])"
   ]
  },
  {
   "cell_type": "code",
   "execution_count": 3,
   "metadata": {},
   "outputs": [
    {
     "name": "stdout",
     "output_type": "stream",
     "text": [
      "Unique chars: \n",
      " !$&',-.3:;?ABCDEFGHIJKLMNOPQRSTUVWXYZabcdefghijklmnopqrstuvwxyz of length 65\n",
      "Index: 0 | Char: \n",
      " \n",
      "Index: 1 | Char:   \n",
      "Index: 2 | Char: ! \n",
      "Index: 3 | Char: $ \n",
      "Index: 4 | Char: & \n"
     ]
    }
   ],
   "source": [
    "# get the unique characters in the dataset and sort them\n",
    "chars = sorted(list(set(data)))\n",
    "# print the unique characters in a concatenated string\n",
    "print(f\"Unique chars: {''.join(chars)} of length {len(chars)}\")\n",
    "\n",
    "# create a dictionary that maps each character to an index\n",
    "char_to_index = {ch: i for i, ch in enumerate(chars)}\n",
    "# create a dictionary that maps each index to a character\n",
    "index_to_char = {i: ch for i, ch in enumerate(chars)}\n",
    "\n",
    "# print the first 5 characters and their corresponding indices\n",
    "for i in range(5):\n",
    "    print(f\"Index: {char_to_index[chars[i]]} | Char: {chars[i]} \")"
   ]
  },
  {
   "cell_type": "markdown",
   "metadata": {},
   "source": [
    "## What is a bigram model?\n",
    "\n",
    "My understanding is that a bigram model maps a character to the probability of other characters occurring after that.\n",
    "\n",
    "So if you have n characters, the you have an n by n matrix where the rows and columns represent a character, and when you have a character and you pluck out a row, it contains the probabilities of character corresponding to the column occuring after that.\n",
    "\n",
    "### What would be a non-ML way of figuring this out?\n",
    "- Start reading the data character by character. \n",
    "- For each character, look at the character next to it.\n",
    "- Add a count for that next char in the array in the right cell\n",
    "- At the end, simply divide the numbers by the total length of the dataset\n",
    "- Voila - you should have the bigram\n",
    "\n",
    "Let's try this out!\n",
    "\n",
    "## Non ML way"
   ]
  },
  {
   "cell_type": "code",
   "execution_count": 4,
   "metadata": {},
   "outputs": [
    {
     "name": "stdout",
     "output_type": "stream",
     "text": [
      "[1. 1. 1. 1. 1. 1. 1. 1. 1. 1. 1. 1. 1. 1. 1. 1. 1. 1. 1. 1. 1. 1. 1. 1.\n",
      " 1. 1. 1. 1. 1. 1. 1. 1. 1. 1. 1. 1. 1. 1. 1. 1. 1. 1. 1. 1. 1. 1. 1. 1.\n",
      " 1. 1. 1. 1. 1. 1. 1. 1. 1. 1. 1. 1. 1. 1. 1. 1. 1.]\n"
     ]
    },
    {
     "data": {
      "image/png": "[encoded data removed]",
      "text/plain": [
       "<Figure size 640x480 with 2 Axes>"
      ]
     },
     "metadata": {},
     "output_type": "display_data"
    }
   ],
   "source": [
    "import numpy as zeros\n",
    "import matplotlib.pyplot as plt\n",
    "\n",
    "n = len(chars)\n",
    "# initialize an np array of size n x n where n = the size of chars\n",
    "bigram = zeros.zeros((n, n))\n",
    "\n",
    "# loop through the data and update the bigram matrix\n",
    "for i in range(len(data) - 1):\n",
    "    bigram[char_to_index[data[i]], char_to_index[data[i + 1]]] += 1\n",
    "\n",
    "# normalize the bigram matrix\n",
    "bigram = bigram / bigram.sum(axis=1, keepdims=True)\n",
    "\n",
    "# let's check that all the rows sum to 1\n",
    "print(bigram.sum(axis=1))\n",
    "\n",
    "# display the bigram in a plot\n",
    "plt.imshow(bigram, cmap='hot', interpolation='nearest')\n",
    "plt.colorbar()\n",
    "plt.show()"
   ]
  },
  {
   "cell_type": "code",
   "execution_count": 5,
   "metadata": {},
   "outputs": [
    {
     "name": "stdout",
     "output_type": "stream",
     "text": [
      "BENewerd tans me?\n",
      "Kiamy r, bast ag,\n",
      "\n",
      "Whifor,\n",
      "Whert hidow wed; atre foul Indd weir hind ongs I:\n",
      "Wilo y amican, bee omof msad\n",
      "MPSearelllin haf,\n",
      "Mend?\n",
      "Be, er ierth.\n",
      "Ay ck'sar bre vers m, astst mans nssamyof al t ccos! qunliedeasscke tis te!\n",
      "CKivem. me we tond chomer t:\n",
      "Whe, fre ot athorary t, athyoront.\n"
     ]
    }
   ],
   "source": [
    "# now we can generate text using the bigram model\n",
    "import random\n",
    "import numpy as np\n",
    "\n",
    "# set the seed\n",
    "random.seed(42)\n",
    "\n",
    "# get the next character based on the probability distribution\n",
    "def get_next_char(current_char):\n",
    "    # get the index of the current character\n",
    "    current_char_index = char_to_index[current_char]\n",
    "    # get the probabilities of the next character\n",
    "    next_char_probabilities = bigram[current_char_index]\n",
    "    # get the next character\n",
    "    next_char_index = np.random.choice(n, p=next_char_probabilities)\n",
    "    next_char = index_to_char[next_char_index]\n",
    "    return next_char\n",
    "\n",
    "# pick an initial character at random\n",
    "initial_char = random.choice(chars)\n",
    "\n",
    "# set the length of the generated text\n",
    "text_length = 300\n",
    "output_string = initial_char\n",
    "for _ in range(text_length):\n",
    "    next_char = get_next_char(output_string[-1])\n",
    "    output_string += next_char\n",
    "    \n",
    "print(output_string)\n"
   ]
  },
  {
   "cell_type": "markdown",
   "metadata": {},
   "source": [
    "## The ML way\n",
    "\n",
    "I am not really sure what the ML way will be.\n",
    "\n",
    "- Create a neural network that has the following layers\n",
    "    - input\n",
    "    - bigrame matrix\n",
    "    - loss\n",
    "- Initialize the weights at random\n",
    "- Do the training loop\n",
    "    - Forward pass\n",
    "    - Gradient descent\n",
    "- We somehow need to make sure that the weights in a row always add up to 1"
   ]
  },
  {
   "cell_type": "code",
   "execution_count": null,
   "metadata": {},
   "outputs": [
    {
     "name": "stdout",
     "output_type": "stream",
     "text": [
      "torch.Size([1115393]) torch.Size([1115393])\n",
      "Epoch: 0 | Loss: 4.735684871673584\n",
      "Epoch: 10 | Loss: 4.5822649002075195\n",
      "Epoch: 20 | Loss: 4.43464994430542\n",
      "Epoch: 30 | Loss: 4.293544769287109\n",
      "Epoch: 40 | Loss: 4.159358501434326\n",
      "Epoch: 50 | Loss: 4.0323004722595215\n",
      "Epoch: 60 | Loss: 3.9124417304992676\n",
      "Epoch: 70 | Loss: 3.799764394760132\n",
      "Epoch: 80 | Loss: 3.6941874027252197\n",
      "Epoch: 90 | Loss: 3.5955801010131836\n"
     ]
    },
    {
     "data": {
      "image/png": "[encoded data removed]",
      "text/plain": [
       "<Figure size 1000x500 with 1 Axes>"
      ]
     },
     "metadata": {},
     "output_type": "display_data"
    }
   ],
   "source": [
    "import torch\n",
    "import torch.nn as nn\n",
    "import torch.optim as optim\n",
    "\n",
    "# define the bigram class\n",
    "class Bigram(nn.Module):\n",
    "    def __init__(self, vocab_size):\n",
    "        super(Bigram, self).__init__()\n",
    "        self.embeddings = nn.Embedding(vocab_size, vocab_size)\n",
    "\n",
    "    def forward(self, x):\n",
    "        return self.embeddings(x)\n",
    "    \n",
    "def train_bigram_basic(model, x, y, num_epochs, loss_fn, optimizer):\n",
    "    losses = []\n",
    "\n",
    "    for epoch in range(num_epochs):\n",
    "        optimizer.zero_grad()\n",
    "\n",
    "        # forward pass, don't call model.forward(x) directly\n",
    "        y_pred = model(x) \n",
    "\n",
    "        # compute the loss\n",
    "        # NOTE:~ this is an odd one... y_pred will return logits\n",
    "        # see the forward function above... it will return embeddings\n",
    "        # BUT since the loss function is CrossEntropyLoss, it will\n",
    "        # automatically apply the softmax function to the logits\n",
    "        # and return predicted values of y\n",
    "        loss = loss_fn(y_pred, y)\n",
    "\n",
    "        # backward pass - calculate gradients\n",
    "        loss.backward()\n",
    "\n",
    "        # update the weights\n",
    "        optimizer.step()\n",
    "\n",
    "        # append and print the loss\n",
    "        losses.append(loss.item())\n",
    "        if epoch % 10 == 0:\n",
    "            print(f\"Epoch: {epoch} | Loss: {loss.item()}\")\n",
    "\n",
    "    return model, losses\n",
    "\n",
    "# plot the loss\n",
    "def plot_loss(losses):\n",
    "    plt.figure(figsize=(10, 5))\n",
    "    plt.plot(losses)\n",
    "    plt.title('Loss vs. epochs')\n",
    "    plt.show()\n",
    "\n",
    "# convert the data to indices and tensors\n",
    "x_indices = [char_to_index[ch] for ch in data[:-1]]\n",
    "y_indices = [char_to_index[ch] for ch in data[1:]]\n",
    "x = torch.tensor(x_indices, dtype=torch.long)\n",
    "y = torch.tensor(y_indices, dtype=torch.long)\n",
    "\n",
    "print(x.shape, y.shape)\n",
    "\n",
    "epochs = 100\n",
    "vocab_size = len(chars)\n",
    "model = Bigram(vocab_size)\n",
    "loss_fn = nn.CrossEntropyLoss()\n",
    "optimizer = optim.Adam(model.parameters(), lr=0.01)\n",
    "\n",
    "model, losses = train_bigram_basic(model, x, y, epochs, loss_fn, optimizer)\n",
    "plot_loss(losses)"
   ]
  },
  {
   "cell_type": "code",
   "execution_count": 7,
   "metadata": {},
   "outputs": [
    {
     "name": "stdout",
     "output_type": "stream",
     "text": [
      "$gZ,TfWOxLaK'F:d,3n:bN3Tpls,,J ,L,aTqj!mglQdgA.iPjA,!,y-$OTL'FAKeKMROHNYURK,sp,DkqvVMfK,,,VP&,aG,JZXecd3omT 3gWTGq v;YHRRjo$sTuxYdT ,,TXvY-Fg&T$qGgnan-.,gTgr,fI,agj,,NMZgQ,XzJeL:z,MAzOfpY?bKPr!g,,Cf.JlL,SMDJ; Tvjp;bf;,T xT\n",
      "gFvALTT&vd&u?pATfMLp:$eYTXkq,.:APYKCT,,D.AMgnLu,Mr.,RITReyHy-,nzsTzmMpaTlgA ,,\n"
     ]
    }
   ],
   "source": [
    "import torch.nn.functional as F\n",
    "\n",
    "def predict_next_char(model, current_char):\n",
    "    current_index = torch.tensor(char_to_index[initial_char], dtype=torch.long)\n",
    "\n",
    "    # predict from the model\n",
    "    y_pred = model(current_index)\n",
    "\n",
    "    # y_pred will return embedding (logits) so we need to apply softmax\n",
    "    probabilities = F.softmax(y_pred, dim=-1).squeeze(0)  # Shape: (vocab_size,)\n",
    "\n",
    "    # Sample the next character index (use torch.multinomial for randomness)\n",
    "    next_index = torch.multinomial(probabilities, num_samples=1).item()\n",
    "\n",
    "    return index_to_char[next_index]\n",
    "\n",
    "\n",
    "# generate text using the trained model\n",
    "def gen_text(model, initial_char, text_length):\n",
    "    output_string = initial_char\n",
    "    for _ in range(text_length):\n",
    "        next_char = predict_next_char(model, output_string[-1])\n",
    "        output_string += next_char\n",
    "    return output_string\n",
    "\n",
    "initial_char = random.choice(chars)\n",
    "text_length = 300\n",
    "output_string = gen_text(model, initial_char, text_length)\n",
    "print(output_string)"
   ]
  },
  {
   "cell_type": "markdown",
   "metadata": {},
   "source": [
    "## The execution was slow. Try batching."
   ]
  },
  {
   "cell_type": "code",
   "execution_count": 31,
   "metadata": {},
   "outputs": [
    {
     "name": "stdout",
     "output_type": "stream",
     "text": [
      "Epoch: 10 | Loss: 4.584294319152832\n",
      "Epoch: 20 | Loss: 4.440248489379883\n",
      "Epoch: 30 | Loss: 4.302271842956543\n",
      "Epoch: 40 | Loss: 4.1706624031066895\n",
      "Epoch: 50 | Loss: 4.0457987785339355\n",
      "Epoch: 60 | Loss: 3.927858591079712\n",
      "Epoch: 70 | Loss: 3.816840887069702\n",
      "Epoch: 80 | Loss: 3.7126598358154297\n",
      "Epoch: 90 | Loss: 3.6151835918426514\n",
      "Epoch: 100 | Loss: 3.52423095703125\n"
     ]
    },
    {
     "data": {
      "image/png": "[encoded data removed]",
      "text/plain": [
       "<Figure size 1000x500 with 1 Axes>"
      ]
     },
     "metadata": {},
     "output_type": "display_data"
    }
   ],
   "source": [
    "from torch.utils.data import DataLoader, TensorDataset\n",
    "\n",
    "def train_bigram_batch(model, dataloader, x, y, num_epochs, loss_fn, optimizer, batch=True):\n",
    "    losses = []\n",
    "\n",
    "    for epoch in range(num_epochs):\n",
    "        if batch:\n",
    "            for x_batch, y_batch in dataloader:\n",
    "                optimizer.zero_grad()\n",
    "                y_pred = model(x_batch) \n",
    "                loss = loss_fn(y_pred, y_batch)\n",
    "                loss.backward()\n",
    "                optimizer.step()\n",
    "                losses.append(loss.item())\n",
    "        else:\n",
    "            optimizer.zero_grad()\n",
    "            y_pred = model(x) \n",
    "            loss = loss_fn(y_pred, y)\n",
    "            loss.backward()\n",
    "            optimizer.step()\n",
    "            losses.append(loss.item())\n",
    "\n",
    "\n",
    "        if (epoch+1) % 10 == 0:\n",
    "            print(f\"Epoch: {epoch+1} | Loss: {loss.item()}\")\n",
    "\n",
    "    return model, losses\n",
    "\n",
    "# use dataloader to make batching efficient\n",
    "batch_size = 1024\n",
    "dataset = TensorDataset(x, y)\n",
    "dataloader = DataLoader(dataset, batch_size=batch_size, shuffle=False, num_workers=0)\n",
    "\n",
    "model = Bigram(vocab_size)\n",
    "loss_fn = nn.CrossEntropyLoss()\n",
    "optimizer = optim.Adam(model.parameters(), lr=0.01)\n",
    "num_epochs = 100\n",
    "do_batch = False\n",
    "model, losses = train_bigram_batch(model, dataloader, x, y, \\\n",
    "                                   num_epochs, loss_fn, optimizer, do_batch)\n",
    "plot_loss(losses)"
   ]
  },
  {
   "cell_type": "markdown",
   "metadata": {},
   "source": [
    "Wow ... this batching strategy was really bad! It is much faster to just pass in the whole batch in one go!\n",
    "\n",
    "Maybe I need to use the proper GPU on a MAC?"
   ]
  },
  {
   "cell_type": "code",
   "execution_count": 32,
   "metadata": {},
   "outputs": [],
   "source": [
    "def train_bigram_manual_batch(model, x, y, num_epochs, loss_fn, optimizer, batch_size):\n",
    "    # Reshape data into batches\n",
    "    num_batches = len(x) // batch_size\n",
    "    x_batched = x[:num_batches * batch_size].view(num_batches, batch_size)\n",
    "    y_batched = y[:num_batches * batch_size].view(num_batches, batch_size)\n",
    "\n",
    "    losses = []\n",
    "\n",
    "    for epoch in range(num_epochs):\n",
    "        epoch_loss = 0.0\n",
    "        for batch_idx in range(num_batches):\n",
    "            # Extract the current batch\n",
    "            x_batch = x_batched[batch_idx]\n",
    "            y_batch = y_batched[batch_idx]\n",
    "\n",
    "            # Forward pass\n",
    "            optimizer.zero_grad()\n",
    "            y_pred = model(x_batch)\n",
    "            loss = loss_fn(y_pred, y_batch)\n",
    "\n",
    "            # Backward pass and optimization\n",
    "            loss.backward()\n",
    "            optimizer.step()\n",
    "            epoch_loss += loss.item()\n",
    "\n",
    "        avg_loss = epoch_loss / num_batches\n",
    "        losses.append(avg_loss)\n",
    "\n",
    "        if epoch % 10 == 0:\n",
    "            print(f\"Epoch: {epoch} | Avg Loss: {avg_loss:.4f}\")\n",
    "\n",
    "    return model, losses"
   ]
  },
  {
   "cell_type": "code",
   "execution_count": 39,
   "metadata": {},
   "outputs": [
    {
     "name": "stdout",
     "output_type": "stream",
     "text": [
      "Using device: mps\n",
      "Epoch: 0 | Avg Loss: 2.7737\n",
      "Epoch: 10 | Avg Loss: 2.4522\n",
      "Epoch: 20 | Avg Loss: 2.4522\n",
      "Epoch: 30 | Avg Loss: 2.4522\n",
      "Epoch: 40 | Avg Loss: 2.4522\n",
      "Epoch: 50 | Avg Loss: 2.4522\n",
      "Epoch: 60 | Avg Loss: 2.4522\n",
      "Epoch: 70 | Avg Loss: 2.4522\n",
      "Epoch: 80 | Avg Loss: 2.4522\n",
      "Epoch: 90 | Avg Loss: 2.4522\n"
     ]
    },
    {
     "data": {
      "image/png": "[encoded data removed]",
      "text/plain": [
       "<Figure size 1000x500 with 1 Axes>"
      ]
     },
     "metadata": {},
     "output_type": "display_data"
    }
   ],
   "source": [
    "# Check for MPS support\n",
    "device = torch.device(\"mps\") if torch.backends.mps.is_available() else torch.device(\"cpu\")\n",
    "print(f\"Using device: {device}\")\n",
    "\n",
    "# use dataloader to make batching efficient\n",
    "batch_size = 1024\n",
    "\n",
    "model = Bigram(vocab_size)\n",
    "\n",
    "# move the model and data the device\n",
    "model = model.to(device)\n",
    "x = x.to(device)\n",
    "y = y.to(device)\n",
    "\n",
    "loss_fn = nn.CrossEntropyLoss()\n",
    "optimizer = optim.Adam(model.parameters(), lr=0.01)\n",
    "num_epochs = 100\n",
    "model, losses = train_bigram_manual_batch(model, x, y, num_epochs, loss_fn, optimizer,\\\n",
    "                                          batch_size)\n",
    "plot_loss(losses)"
   ]
  },
  {
   "cell_type": "markdown",
   "metadata": {},
   "source": [
    "Yuk... this didn't work either. I think I am going to call it and stop here. This is probably why you need a proper ML guy to figure this out :-)"
   ]
  },
  {
   "cell_type": "code",
   "execution_count": null,
   "metadata": {},
   "outputs": [],
   "source": []
  }
 ],
 "metadata": {
  "kernelspec": {
   "display_name": "ve-play",
   "language": "python",
   "name": "python3"
  },
  "language_info": {
   "codemirror_mode": {
    "name": "ipython",
    "version": 3
   },
   "file_extension": ".py",
   "mimetype": "text/x-python",
   "name": "python",
   "nbconvert_exporter": "python",
   "pygments_lexer": "ipython3",
   "version": "3.12.1"
  }
 },
 "nbformat": 4,
 "nbformat_minor": 2
}
