{
 "cells": [
  {
   "cell_type": "code",
   "execution_count": 2,
   "metadata": {},
   "outputs": [
    {
     "name": "stdout",
     "output_type": "stream",
     "text": [
      "\n",
      " !$&',-.3:;?ABCDEFGHIJKLMNOPQRSTUVWXYZabcdefghijklmnopqrstuvwxyz\n",
      "[46, 43, 50, 50, 53]\n",
      "hello\n"
     ]
    }
   ],
   "source": [
    "# the input file has already been downloaded\n",
    "\n",
    "with open(\"input.txt\") as f:\n",
    "    data = f.read()\n",
    "\n",
    "# create the vocab\n",
    "chars = sorted(list(set(data)))\n",
    "print(''.join(chars))\n",
    "\n",
    "atoi = {c: i for i, c in enumerate(chars)}\n",
    "itoa = {i: c for i, c in enumerate(chars)}\n",
    "\n",
    "encode = lambda str: [atoi[c] for c in str]\n",
    "decode = lambda arr: ''.join([itoa[i] for i in arr])\n",
    "\n",
    "arr = encode(\"hello\")\n",
    "print(arr)\n",
    "print(decode(arr))"
   ]
  },
  {
   "cell_type": "code",
   "execution_count": 3,
   "metadata": {},
   "outputs": [
    {
     "name": "stdout",
     "output_type": "stream",
     "text": [
      "torch.Size([1115394]) torch.int64\n",
      "tensor([18, 47, 56, 57, 58,  1, 15, 47, 58, 47, 64, 43, 52, 10,  0, 14, 43, 44,\n",
      "        53, 56, 43,  1, 61, 43,  1, 54, 56, 53, 41, 43, 43, 42,  1, 39, 52, 63,\n",
      "         1, 44, 59, 56, 58, 46, 43, 56,  6,  1, 46, 43, 39, 56,  1, 51, 43,  1,\n",
      "        57, 54, 43, 39, 49,  8,  0,  0, 13, 50, 50, 10,  0, 31, 54, 43, 39, 49,\n",
      "         6,  1, 57, 54, 43, 39, 49,  8,  0,  0, 18, 47, 56, 57, 58,  1, 15, 47,\n",
      "        58, 47, 64, 43, 52, 10,  0, 37, 53, 59])\n"
     ]
    }
   ],
   "source": [
    "import torch\n",
    "# convert data into a tensor\n",
    "if not type(data) is torch.Tensor:\n",
    "    data = torch.tensor(encode(data), dtype=torch.long)\n",
    "print(data.shape, data.dtype)\n",
    "print(data[:100])\n",
    "\n",
    "# split the data into training and validation\n",
    "# NOTE:~ we may be able to do better than this by picking random chunks\n",
    "def split(data, frac=0.8):\n",
    "    n = int(frac * len(data))\n",
    "    return data[:n], data[n:]\n",
    "\n",
    "train_data, val_data = split(data)"
   ]
  },
  {
   "cell_type": "code",
   "execution_count": 4,
   "metadata": {},
   "outputs": [
    {
     "name": "stdout",
     "output_type": "stream",
     "text": [
      "Input:  tensor([18]) Output: 47\n",
      "Input:  tensor([18, 47]) Output: 56\n",
      "Input:  tensor([18, 47, 56]) Output: 57\n",
      "Input:  tensor([18, 47, 56, 57]) Output: 58\n",
      "Input:  tensor([18, 47, 56, 57, 58]) Output: 1\n",
      "Input:  tensor([18, 47, 56, 57, 58,  1]) Output: 15\n",
      "Input:  tensor([18, 47, 56, 57, 58,  1, 15]) Output: 47\n",
      "Input:  tensor([18, 47, 56, 57, 58,  1, 15, 47]) Output: 58\n"
     ]
    }
   ],
   "source": [
    "# we want to chunk the data, since it's sequential and we want the transformer\n",
    "# to see different chunk sizes. chunk = context (context length)\n",
    "block_size = 8\n",
    "x = train_data[:block_size]\n",
    "y = train_data[1:block_size+1]\n",
    "\n",
    "for t in range(block_size):\n",
    "    print(f\"Input:  {x[:t+1]} Output: {y[t]}\")\n"
   ]
  },
  {
   "cell_type": "code",
   "execution_count": 5,
   "metadata": {},
   "outputs": [
    {
     "name": "stdout",
     "output_type": "stream",
     "text": [
      "torch.Size([4, 8]) torch.Size([4, 8])\n",
      "inputs\n",
      " tensor([[58, 63,  8,  0,  0, 19, 24, 27],\n",
      "        [39, 59, 45, 46, 58,  1, 46, 43],\n",
      "        [49, 43, 57,  1, 53, 50, 42,  1],\n",
      "        [52, 41, 47, 43, 52, 58,  1, 56]])\n",
      "outputs\n",
      " tensor([[63,  8,  0,  0, 19, 24, 27, 33],\n",
      "        [59, 45, 46, 58,  1, 46, 43,  1],\n",
      "        [43, 57,  1, 53, 50, 42,  1, 46],\n",
      "        [41, 47, 43, 52, 58,  1, 56, 47]])\n",
      "------\n",
      "Input: [58] Output: 63\n",
      "Input: [58, 63] Output: 8\n",
      "Input: [58, 63, 8] Output: 0\n",
      "Input: [58, 63, 8, 0] Output: 0\n",
      "Input: [58, 63, 8, 0, 0] Output: 19\n",
      "Input: [58, 63, 8, 0, 0, 19] Output: 24\n",
      "Input: [58, 63, 8, 0, 0, 19, 24] Output: 27\n",
      "Input: [58, 63, 8, 0, 0, 19, 24, 27] Output: 33\n",
      "Input: [39] Output: 59\n",
      "Input: [39, 59] Output: 45\n",
      "Input: [39, 59, 45] Output: 46\n",
      "Input: [39, 59, 45, 46] Output: 58\n",
      "Input: [39, 59, 45, 46, 58] Output: 1\n",
      "Input: [39, 59, 45, 46, 58, 1] Output: 46\n",
      "Input: [39, 59, 45, 46, 58, 1, 46] Output: 43\n",
      "Input: [39, 59, 45, 46, 58, 1, 46, 43] Output: 1\n",
      "Input: [49] Output: 43\n",
      "Input: [49, 43] Output: 57\n",
      "Input: [49, 43, 57] Output: 1\n",
      "Input: [49, 43, 57, 1] Output: 53\n",
      "Input: [49, 43, 57, 1, 53] Output: 50\n",
      "Input: [49, 43, 57, 1, 53, 50] Output: 42\n",
      "Input: [49, 43, 57, 1, 53, 50, 42] Output: 1\n",
      "Input: [49, 43, 57, 1, 53, 50, 42, 1] Output: 46\n",
      "Input: [52] Output: 41\n",
      "Input: [52, 41] Output: 47\n",
      "Input: [52, 41, 47] Output: 43\n",
      "Input: [52, 41, 47, 43] Output: 52\n",
      "Input: [52, 41, 47, 43, 52] Output: 58\n",
      "Input: [52, 41, 47, 43, 52, 58] Output: 1\n",
      "Input: [52, 41, 47, 43, 52, 58, 1] Output: 56\n",
      "Input: [52, 41, 47, 43, 52, 58, 1, 56] Output: 47\n"
     ]
    }
   ],
   "source": [
    "# now we want batches of chunked data\n",
    "torch.manual_seed(1337)\n",
    "batch_size = 4\n",
    "block_size = 8\n",
    "\n",
    "def get_batch(split):\n",
    "    # generate a small batch of data by sampling chunks at random\n",
    "    data = train_data if split == 'train' else val_data\n",
    "    ix = torch.randint( len(data) - block_size, (batch_size,) )\n",
    "    x = torch.stack(  [data[i:i+block_size] for i in ix] )\n",
    "    y = torch.stack(  [data[i+1:i+block_size+1] for i in ix] )\n",
    "    return x, y\n",
    "\n",
    "xb, yb = get_batch('train')\n",
    "print(xb.shape, yb.shape)\n",
    "print(\"inputs\\n\", xb)\n",
    "print(\"outputs\\n\", yb)\n",
    "\n",
    "print(\"------\")\n",
    "\n",
    "for b in range(batch_size):\n",
    "    # now we are in a batch, pick that chunk\n",
    "    for t in range(block_size):\n",
    "        context = xb[b, :t+1]\n",
    "        target = yb[b, t]\n",
    "        print(f\"Input: {context.tolist()} Output: {target}\")\n"
   ]
  },
  {
   "cell_type": "code",
   "execution_count": 6,
   "metadata": {},
   "outputs": [
    {
     "name": "stdout",
     "output_type": "stream",
     "text": [
      "torch.Size([32, 65]) tensor(5.0493, grad_fn=<NllLossBackward0>)\n",
      "\n",
      "SKIcLT;AcELMoTbvZv C?nq-QE33:CJqkOKH-q;:la!oiywkHjgChzbQ?u!3bLIgwevmyFJGUGp\n",
      "wnYWmnxKWWev-tDqXErVKLgJ\n"
     ]
    }
   ],
   "source": [
    "# try the bigram model\n",
    "\n",
    "import torch\n",
    "import torch.nn as nn\n",
    "import torch.nn.functional as F\n",
    "torch.manual_seed(1337)\n",
    "\n",
    "class BigramModel(nn.Module):\n",
    "    def __init__(self, vocab_size):\n",
    "        super().__init__()\n",
    "        self.token_embedding_table = nn.Embedding(vocab_size, vocab_size)\n",
    "\n",
    "    def forward(self, idx, targets=None):\n",
    "        # idx and targets are bot (B, T) where B is batch size and T is time aka context length\n",
    "        # C = channels = vocab size\n",
    "        logits = self.token_embedding_table(idx) # (B, T, C)\n",
    "        if targets is None:\n",
    "            loss = None\n",
    "        else:\n",
    "            B, T, C = logits.shape  \n",
    "            logits = logits.view(B*T, C)\n",
    "            targets = targets.view(B*T)\n",
    "            loss = F.cross_entropy(logits, targets)\n",
    "\n",
    "        return logits, loss\n",
    "    \n",
    "    def generate(self, idx, max_new_tokens):\n",
    "        for _ in range(max_new_tokens):\n",
    "            # predict\n",
    "            logits, loss = self(idx)\n",
    "            # just take the last time step\n",
    "            logits = logits[:, -1, :] # (B, C)\n",
    "            # convert the logits to probabilities\n",
    "            probs = F.softmax(logits, dim=-1)\n",
    "            # sample from the distribution\n",
    "            idx_next = torch.multinomial(probs, num_samples=1)\n",
    "            # append to the sequence\n",
    "            idx = torch.cat((idx, idx_next), dim=1)\n",
    "        return idx\n",
    "\n",
    "    \n",
    "vocab_size = len(chars)\n",
    "m = BigramModel(vocab_size)\n",
    "logits, loss = m(xb, yb)\n",
    "print(logits.shape, loss)\n",
    "\n",
    "def print_generated_sequence(model, max_new_tokens):\n",
    "    idx = torch.zeros((1, 1), dtype=torch.long) # newline char in our vocab\n",
    "    idx = m.generate(idx, max_new_tokens) # generate new tokens\n",
    "    idx = idx[0].tolist() # convert to a list\n",
    "    print(decode(idx))\n",
    "\n",
    "print_generated_sequence(m, 100)"
   ]
  },
  {
   "cell_type": "code",
   "execution_count": 7,
   "metadata": {},
   "outputs": [
    {
     "name": "stdout",
     "output_type": "stream",
     "text": [
      "Epoch 1000 Loss 3.681859254837036\n",
      "Epoch 2000 Loss 3.282238006591797\n",
      "Epoch 3000 Loss 2.791837692260742\n",
      "Epoch 4000 Loss 2.592615842819214\n",
      "Epoch 5000 Loss 2.5700435638427734\n",
      "Epoch 6000 Loss 2.521210193634033\n",
      "Epoch 7000 Loss 2.5207767486572266\n",
      "Epoch 8000 Loss 2.409142255783081\n",
      "Epoch 9000 Loss 2.491442918777466\n",
      "Epoch 10000 Loss 2.5331475734710693\n"
     ]
    },
    {
     "data": {
      "image/png": "[encoded data removed]",
      "text/plain": [
       "<Figure size 1000x500 with 1 Axes>"
      ]
     },
     "metadata": {},
     "output_type": "display_data"
    }
   ],
   "source": [
    "import matplotlib.pyplot as plt\n",
    "# plot the loss\n",
    "def plot_loss(losses):\n",
    "    plt.figure(figsize=(10, 5))\n",
    "    plt.plot(losses)\n",
    "    plt.title('Loss vs. epochs')\n",
    "    plt.show()\n",
    "\n",
    "# create an optimizer\n",
    "optimizer = torch.optim.AdamW(m.parameters(), lr=0.001)\n",
    "batch_size = 32\n",
    "num_epochs = 10000\n",
    "losses = []\n",
    "for epoch in range(num_epochs):\n",
    "    # sample a batch of data\n",
    "    xb, yb = get_batch('train')\n",
    "\n",
    "    # evaluate the loss\n",
    "    logits, loss = m(xb, yb)\n",
    "    optimizer.zero_grad(set_to_none=True)\n",
    "    loss.backward()\n",
    "    losses.append(loss.item())\n",
    "    optimizer.step()\n",
    "    \n",
    "    if (epoch + 1) % 1000 == 0:\n",
    "        print(f\"Epoch {epoch + 1} Loss {loss.item()}\")\n",
    "\n",
    "plot_loss(losses)"
   ]
  },
  {
   "cell_type": "code",
   "execution_count": 8,
   "metadata": {},
   "outputs": [
    {
     "name": "stdout",
     "output_type": "stream",
     "text": [
      "\n",
      "lso br. ave aviu:\n",
      "\n",
      "\n",
      "Smy, may be ivee iuedrd whar ksth y h bora s be hese, woweee; the! KI 'de, ulseecherd d o blllando;LUCEO, oraingofof wan!\n",
      "RIfans picspeserer hee tha,\n",
      "TOFonk? me ain ckntoty dedo bo'llll st ta d:\n",
      "ELIS me hurf lal y, ma dus pe athouo\n",
      "By bre ndy; by s afreanoo adicererupa anse tecorro llaus a!\n",
      "OLengerithesththenou theal amas trr\n",
      "TI ar I t, mes, o IUSt my w,\n",
      "\n",
      "Whank'the\n",
      "THek' merer, dd\n",
      "We ntem lud engitonso; cer ize helour\n",
      "Jginte the?\n",
      "Thak orblyor id oree chot, p,\n",
      "Bealivolde Th ll\n"
     ]
    }
   ],
   "source": [
    "print_generated_sequence(m, 500)"
   ]
  },
  {
   "cell_type": "markdown",
   "metadata": {},
   "source": [
    "Let's figure out how to create the attention head"
   ]
  },
  {
   "cell_type": "code",
   "execution_count": 9,
   "metadata": {},
   "outputs": [
    {
     "name": "stdout",
     "output_type": "stream",
     "text": [
      "a:\n",
      "tensor([[1., 1., 1.],\n",
      "        [1., 1., 1.],\n",
      "        [1., 1., 1.]])\n",
      "b:\n",
      "tensor([[2., 7.],\n",
      "        [6., 4.],\n",
      "        [6., 5.]])\n",
      "c:\n",
      "tensor([[14., 16.],\n",
      "        [14., 16.],\n",
      "        [14., 16.]])\n"
     ]
    }
   ],
   "source": [
    "torch.manual_seed(42) \n",
    "a = torch.ones((3, 3), dtype=torch.float32)\n",
    "\n",
    "# fill a (3,2) torch tensor with random longs\n",
    "b = torch.randint(0, 10, (3, 2), dtype=torch.float32)\n",
    "\n",
    "c = a @ b\n",
    "\n",
    "print(\"a:\")\n",
    "print(a)\n",
    "print(\"b:\")\n",
    "print(b)\n",
    "print(\"c:\")\n",
    "print(c)"
   ]
  },
  {
   "cell_type": "code",
   "execution_count": 10,
   "metadata": {},
   "outputs": [
    {
     "name": "stdout",
     "output_type": "stream",
     "text": [
      "a:\n",
      "tensor([[1., 0., 0.],\n",
      "        [1., 1., 0.],\n",
      "        [1., 1., 1.]])\n",
      "b:\n",
      "tensor([[2., 7.],\n",
      "        [6., 4.],\n",
      "        [6., 5.]])\n",
      "c:\n",
      "tensor([[ 2.,  7.],\n",
      "        [ 8., 11.],\n",
      "        [14., 16.]])\n"
     ]
    }
   ],
   "source": [
    "# now we want to create a tensor in a triangle shape with lower part being 1s\n",
    "a = torch.tril(torch.ones((3, 3)))\n",
    "print(\"a:\")\n",
    "print(a)\n",
    "\n",
    "c = a @ b\n",
    "\n",
    "print(\"b:\")\n",
    "print(b)\n",
    "print(\"c:\")\n",
    "print(c)"
   ]
  },
  {
   "cell_type": "code",
   "execution_count": 11,
   "metadata": {},
   "outputs": [
    {
     "name": "stdout",
     "output_type": "stream",
     "text": [
      "tensor([[1.0000, 0.0000, 0.0000],\n",
      "        [0.5000, 0.5000, 0.0000],\n",
      "        [0.3333, 0.3333, 0.3333]])\n",
      "b:\n",
      "tensor([[2., 7.],\n",
      "        [6., 4.],\n",
      "        [6., 5.]])\n",
      "c:\n",
      "tensor([[2.0000, 7.0000],\n",
      "        [4.0000, 5.5000],\n",
      "        [4.6667, 5.3333]])\n"
     ]
    }
   ],
   "source": [
    "# now let's get an average\n",
    "a = a / torch.sum(a, dim=1, keepdim=True)\n",
    "print(a)\n",
    "\n",
    "c = a @ b\n",
    "\n",
    "print(\"b:\")\n",
    "print(b)\n",
    "print(\"c:\")\n",
    "print(c)"
   ]
  },
  {
   "cell_type": "code",
   "execution_count": 24,
   "metadata": {},
   "outputs": [
    {
     "name": "stdout",
     "output_type": "stream",
     "text": [
      "x: torch.Size([4, 8, 2])\n",
      "xb: torch.Size([4, 8, 2])\n",
      "wei:\n",
      "tensor([[1.0000, 0.0000, 0.0000, 0.0000, 0.0000, 0.0000, 0.0000, 0.0000],\n",
      "        [0.5000, 0.5000, 0.0000, 0.0000, 0.0000, 0.0000, 0.0000, 0.0000],\n",
      "        [0.3333, 0.3333, 0.3333, 0.0000, 0.0000, 0.0000, 0.0000, 0.0000],\n",
      "        [0.2500, 0.2500, 0.2500, 0.2500, 0.0000, 0.0000, 0.0000, 0.0000],\n",
      "        [0.2000, 0.2000, 0.2000, 0.2000, 0.2000, 0.0000, 0.0000, 0.0000],\n",
      "        [0.1667, 0.1667, 0.1667, 0.1667, 0.1667, 0.1667, 0.0000, 0.0000],\n",
      "        [0.1429, 0.1429, 0.1429, 0.1429, 0.1429, 0.1429, 0.1429, 0.0000],\n",
      "        [0.1250, 0.1250, 0.1250, 0.1250, 0.1250, 0.1250, 0.1250, 0.1250]])\n",
      "xb: torch.Size([4, 8, 2])\n",
      "True\n"
     ]
    }
   ],
   "source": [
    "# assumptions for simplicity\n",
    "B = 4 # batch size\n",
    "T = 8 # context length\n",
    "C = 2 # vocab size\n",
    "\n",
    "torch.manual_seed(1337)\n",
    "x = torch.randn(B, T, C)\n",
    "print(f\"x: {x.shape}\")\n",
    "\n",
    "# for means along columns\n",
    "xb = torch.zeros(B, T, C)\n",
    "for b in range(B):\n",
    "    for t in range(T):\n",
    "        x_prev  = x[b, :t+1] # t, C\n",
    "        xb[b, t] = torch.mean(x_prev, dim=0)\n",
    "print(f\"xb: {xb.shape}\")\n",
    "\n",
    "wei = torch.tril(torch.ones((T, T)))\n",
    "wei = wei / torch.sum(wei, dim=1, keepdim=True)\n",
    "print(\"wei:\")\n",
    "print(wei)\n",
    "\n",
    "xb2 = wei @ x # (T, T) * (B, T, C) -> (B, T, T) * (B, T, C) -> (B, T, C)\n",
    "print(f\"xb: {xb.shape}\")\n",
    "\n",
    "print(torch.allclose(xb, xb2))"
   ]
  },
  {
   "cell_type": "code",
   "execution_count": 28,
   "metadata": {},
   "outputs": [
    {
     "name": "stdout",
     "output_type": "stream",
     "text": [
      "tensor([[1., 0., 0., 0., 0., 0., 0., 0.],\n",
      "        [1., 1., 0., 0., 0., 0., 0., 0.],\n",
      "        [1., 1., 1., 0., 0., 0., 0., 0.],\n",
      "        [1., 1., 1., 1., 0., 0., 0., 0.],\n",
      "        [1., 1., 1., 1., 1., 0., 0., 0.],\n",
      "        [1., 1., 1., 1., 1., 1., 0., 0.],\n",
      "        [1., 1., 1., 1., 1., 1., 1., 0.],\n",
      "        [1., 1., 1., 1., 1., 1., 1., 1.]])\n",
      "tensor([[0., 0., 0., 0., 0., 0., 0., 0.],\n",
      "        [0., 0., 0., 0., 0., 0., 0., 0.],\n",
      "        [0., 0., 0., 0., 0., 0., 0., 0.],\n",
      "        [0., 0., 0., 0., 0., 0., 0., 0.],\n",
      "        [0., 0., 0., 0., 0., 0., 0., 0.],\n",
      "        [0., 0., 0., 0., 0., 0., 0., 0.],\n",
      "        [0., 0., 0., 0., 0., 0., 0., 0.],\n",
      "        [0., 0., 0., 0., 0., 0., 0., 0.]])\n",
      "tensor([[0., -inf, -inf, -inf, -inf, -inf, -inf, -inf],\n",
      "        [0., 0., -inf, -inf, -inf, -inf, -inf, -inf],\n",
      "        [0., 0., 0., -inf, -inf, -inf, -inf, -inf],\n",
      "        [0., 0., 0., 0., -inf, -inf, -inf, -inf],\n",
      "        [0., 0., 0., 0., 0., -inf, -inf, -inf],\n",
      "        [0., 0., 0., 0., 0., 0., -inf, -inf],\n",
      "        [0., 0., 0., 0., 0., 0., 0., -inf],\n",
      "        [0., 0., 0., 0., 0., 0., 0., 0.]])\n",
      "tensor([[1.0000, 0.0000, 0.0000, 0.0000, 0.0000, 0.0000, 0.0000, 0.0000],\n",
      "        [0.5000, 0.5000, 0.0000, 0.0000, 0.0000, 0.0000, 0.0000, 0.0000],\n",
      "        [0.3333, 0.3333, 0.3333, 0.0000, 0.0000, 0.0000, 0.0000, 0.0000],\n",
      "        [0.2500, 0.2500, 0.2500, 0.2500, 0.0000, 0.0000, 0.0000, 0.0000],\n",
      "        [0.2000, 0.2000, 0.2000, 0.2000, 0.2000, 0.0000, 0.0000, 0.0000],\n",
      "        [0.1667, 0.1667, 0.1667, 0.1667, 0.1667, 0.1667, 0.0000, 0.0000],\n",
      "        [0.1429, 0.1429, 0.1429, 0.1429, 0.1429, 0.1429, 0.1429, 0.0000],\n",
      "        [0.1250, 0.1250, 0.1250, 0.1250, 0.1250, 0.1250, 0.1250, 0.1250]])\n",
      "True\n"
     ]
    }
   ],
   "source": [
    "tril = torch.tril(torch.ones(T, T))\n",
    "print(tril)\n",
    "wei = torch.zeros((T, T))\n",
    "print(wei)\n",
    "wei = wei.masked_fill(tril == 0, float('-inf'))\n",
    "print(wei)\n",
    "wei = torch.softmax(wei, dim=1)\n",
    "print(wei)\n",
    "xb3 = wei @ x\n",
    "print(torch.allclose(xb, xb3))"
   ]
  },
  {
   "cell_type": "code",
   "execution_count": 30,
   "metadata": {},
   "outputs": [
    {
     "name": "stdout",
     "output_type": "stream",
     "text": [
      "wei: torch.Size([4, 8, 8]) x.shape: torch.Size([4, 8, 32])\n",
      "tensor([[[1.0000, 0.0000, 0.0000, 0.0000, 0.0000, 0.0000, 0.0000, 0.0000],\n",
      "         [0.1574, 0.8426, 0.0000, 0.0000, 0.0000, 0.0000, 0.0000, 0.0000],\n",
      "         [0.2088, 0.1646, 0.6266, 0.0000, 0.0000, 0.0000, 0.0000, 0.0000],\n",
      "         [0.5792, 0.1187, 0.1889, 0.1131, 0.0000, 0.0000, 0.0000, 0.0000],\n",
      "         [0.0294, 0.1052, 0.0469, 0.0276, 0.7909, 0.0000, 0.0000, 0.0000],\n",
      "         [0.0176, 0.2689, 0.0215, 0.0089, 0.6812, 0.0019, 0.0000, 0.0000],\n",
      "         [0.1691, 0.4066, 0.0438, 0.0416, 0.1048, 0.2012, 0.0329, 0.0000],\n",
      "         [0.0210, 0.0843, 0.0555, 0.2297, 0.0573, 0.0709, 0.2423, 0.2391]],\n",
      "\n",
      "        [[1.0000, 0.0000, 0.0000, 0.0000, 0.0000, 0.0000, 0.0000, 0.0000],\n",
      "         [0.1687, 0.8313, 0.0000, 0.0000, 0.0000, 0.0000, 0.0000, 0.0000],\n",
      "         [0.2477, 0.0514, 0.7008, 0.0000, 0.0000, 0.0000, 0.0000, 0.0000],\n",
      "         [0.4410, 0.0957, 0.3747, 0.0887, 0.0000, 0.0000, 0.0000, 0.0000],\n",
      "         [0.0069, 0.0456, 0.0300, 0.7748, 0.1427, 0.0000, 0.0000, 0.0000],\n",
      "         [0.0660, 0.0892, 0.0413, 0.6316, 0.1649, 0.0069, 0.0000, 0.0000],\n",
      "         [0.0396, 0.2288, 0.0090, 0.2000, 0.2061, 0.1949, 0.1217, 0.0000],\n",
      "         [0.3650, 0.0474, 0.0767, 0.0293, 0.3084, 0.0784, 0.0455, 0.0493]],\n",
      "\n",
      "        [[1.0000, 0.0000, 0.0000, 0.0000, 0.0000, 0.0000, 0.0000, 0.0000],\n",
      "         [0.4820, 0.5180, 0.0000, 0.0000, 0.0000, 0.0000, 0.0000, 0.0000],\n",
      "         [0.1705, 0.4550, 0.3745, 0.0000, 0.0000, 0.0000, 0.0000, 0.0000],\n",
      "         [0.0074, 0.7444, 0.0477, 0.2005, 0.0000, 0.0000, 0.0000, 0.0000],\n",
      "         [0.8359, 0.0416, 0.0525, 0.0580, 0.0119, 0.0000, 0.0000, 0.0000],\n",
      "         [0.1195, 0.2061, 0.1019, 0.1153, 0.1814, 0.2758, 0.0000, 0.0000],\n",
      "         [0.0065, 0.0589, 0.0372, 0.3063, 0.1325, 0.3209, 0.1378, 0.0000],\n",
      "         [0.1416, 0.1519, 0.0384, 0.1643, 0.1207, 0.1254, 0.0169, 0.2408]],\n",
      "\n",
      "        [[1.0000, 0.0000, 0.0000, 0.0000, 0.0000, 0.0000, 0.0000, 0.0000],\n",
      "         [0.6369, 0.3631, 0.0000, 0.0000, 0.0000, 0.0000, 0.0000, 0.0000],\n",
      "         [0.2586, 0.7376, 0.0038, 0.0000, 0.0000, 0.0000, 0.0000, 0.0000],\n",
      "         [0.4692, 0.3440, 0.1237, 0.0631, 0.0000, 0.0000, 0.0000, 0.0000],\n",
      "         [0.1865, 0.4680, 0.0353, 0.1854, 0.1248, 0.0000, 0.0000, 0.0000],\n",
      "         [0.0828, 0.7479, 0.0017, 0.0735, 0.0712, 0.0228, 0.0000, 0.0000],\n",
      "         [0.0522, 0.0517, 0.0961, 0.0375, 0.1024, 0.5730, 0.0872, 0.0000],\n",
      "         [0.0306, 0.2728, 0.0333, 0.1409, 0.1414, 0.0582, 0.0825, 0.2402]]],\n",
      "       grad_fn=<SoftmaxBackward0>)\n",
      "v: torch.Size([4, 8, 16])\n",
      "torch.Size([4, 8, 16])\n"
     ]
    }
   ],
   "source": [
    "# self attention block\n",
    "torch.manual_seed(1337)\n",
    "B, T, C = 4, 8, 32\n",
    "x = torch.randn(B, T, C)\n",
    "\n",
    "# self-attention head\n",
    "head_size = 16\n",
    "key = nn.Linear(C, head_size, bias=False)\n",
    "query = nn.Linear(C, head_size, bias=False)\n",
    "value = nn.Linear(C, head_size, bias=False)\n",
    "k = key(x)\n",
    "q = query(x)\n",
    "wei = q @ k.transpose(-2, -1) # (B, T, h) dot (B, h, T) -> (B, T, T)\n",
    "\n",
    "\n",
    "til = torch.tril((torch.ones(T, T)))\n",
    "# wei = torch.zeros((T, T)) no longer zeros, but from q and k\n",
    "wei = wei.masked_fill(til == 0, float('-inf'))\n",
    "print(f\"wei: {wei.shape} x.shape: {x.shape}\")\n",
    "wei = F.softmax(wei, dim=-1)\n",
    "print(wei)\n",
    "\n",
    "v = value(x)\n",
    "print(f\"v: {v.shape}\")\n",
    "out = wei @ v\n",
    "print(out.shape)\n"
   ]
  },
  {
   "cell_type": "markdown",
   "metadata": {},
   "source": [
    "Very strange comment on the above...\n",
    "\n",
    "So the `wei = wei.masked_fill(til == 0, float('-inf'))` line makes this a \"decoder\" block of self-attention, because tokens are NOT aware of future tokens, only previous ones.\n",
    "\n",
    "If we delete this line, then ie becomes an \"encoder\" block, because all tokens ARE aware of all other tokens.\n",
    "\n",
    "I guess: \n",
    "- in \"decoder\" blocks, tokens are trying to decode the past to predict the future\n",
    "- in \"encoder\" blocks tokens are trying to encode all the information in the block\n"
   ]
  },
  {
   "cell_type": "code",
   "execution_count": 38,
   "metadata": {},
   "outputs": [
    {
     "name": "stdout",
     "output_type": "stream",
     "text": [
      "./plot_002.png\n"
     ]
    },
    {
     "data": {
      "image/png": "[encoded data removed]",
      "text/plain": [
       "<Figure size 640x480 with 1 Axes>"
      ]
     },
     "metadata": {},
     "output_type": "display_data"
    }
   ],
   "source": [
    "import os\n",
    "import re\n",
    "\n",
    "def generate_next_filename(basename, ext, num_digits=3, directory=\".\"):\n",
    "    # Compile a regex pattern to match files with the given basename, digits, and extension\n",
    "    pattern = re.compile(rf\"^{re.escape(basename)}_(\\d{{{num_digits}}}){re.escape(ext)}$\")\n",
    "    \n",
    "    # List all files in the directory\n",
    "    files = os.listdir(directory)\n",
    "    \n",
    "    # Find all matching files and extract their counters\n",
    "    counters = []\n",
    "    for file in files:\n",
    "        match = pattern.match(file)\n",
    "        if match:\n",
    "            counters.append(int(match.group(1)))\n",
    "    \n",
    "    # Determine the next counter value\n",
    "    next_counter = max(counters, default=0) + 1\n",
    "    \n",
    "    # Generate the next filename\n",
    "    next_filename = f\"{basename}_{str(next_counter).zfill(num_digits)}{ext}\"\n",
    "    return os.path.join(directory, next_filename)\n",
    "\n",
    "def test_plot():\n",
    "    # Create a plot\n",
    "    plt.figure()\n",
    "    plt.plot([0, 1, 2, 3, 4], [0, 1, 4, 9, 16])\n",
    "\n",
    "    # Generate a filename for the plot\n",
    "    filename = generate_next_filename(\"plot\", \".png\", directory=\".\")\n",
    "    plt.savefig(filename)\n",
    "    print(filename)\n",
    "\n",
    "test_plot()"
   ]
  },
  {
   "cell_type": "code",
   "execution_count": null,
   "metadata": {},
   "outputs": [],
   "source": []
  },
  {
   "cell_type": "code",
   "execution_count": null,
   "metadata": {},
   "outputs": [],
   "source": []
  }
 ],
 "metadata": {
  "kernelspec": {
   "display_name": "ve-play",
   "language": "python",
   "name": "python3"
  },
  "language_info": {
   "codemirror_mode": {
    "name": "ipython",
    "version": 3
   },
   "file_extension": ".py",
   "mimetype": "text/x-python",
   "name": "python",
   "nbconvert_exporter": "python",
   "pygments_lexer": "ipython3",
   "version": "3.12.1"
  }
 },
 "nbformat": 4,
 "nbformat_minor": 2
}
